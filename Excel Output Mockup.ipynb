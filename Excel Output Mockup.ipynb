{
 "cells": [
  {
   "cell_type": "markdown",
   "id": "d3c44b7a-5e46-4ff8-9a71-71bd4c99f343",
   "metadata": {},
   "source": [
    "## Functions for Working with Openpyxl\n",
    "JDL, April 2023 (version 4/25/23)"
   ]
  },
  {
   "cell_type": "code",
   "execution_count": 1,
   "id": "0bb09960-4ada-4cf2-9084-66256ad84432",
   "metadata": {},
   "outputs": [],
   "source": [
    "import pandas as pd\n",
    "import openpyxl\n",
    "#import openpyxl.utils.dataframe as pyxldf\n",
    "from openpyxl.styles import Border, Side, Font\n",
    "import openpyxl.utils as pyxl_util"
   ]
  },
  {
   "cell_type": "markdown",
   "id": "21587474-2670-4097-9aba-0a75d1ab013a",
   "metadata": {},
   "source": [
    "#### Create two DataFrames to be written to an Excel workbook\n",
    "Code below explores how to use openpyxl to output formatted versions of the two DataFrames side-by-side on a worksheet. Functions assume DataFrame has a single Pandas index (not multiindex) and single level of column names"
   ]
  },
  {
   "cell_type": "code",
   "execution_count": 2,
   "id": "fbce4a43-62f2-4c65-b32f-1fb661e0f068",
   "metadata": {},
   "outputs": [
    {
     "name": "stdout",
     "output_type": "stream",
     "text": [
      "\n",
      "\n",
      "           1001   1002   1003   1004\n",
      "ID_var                             \n",
      "801     0.0336  0.056  0.056  0.005\n",
      "802     0.0000  0.000  0.000  0.000\n",
      "803     0.0000  0.000  0.000  0.000\n",
      "804     0.0000  0.000  0.000  0.000\n",
      "805     0.0100  0.050  0.100  0.200 \n",
      "\n",
      "         Result1  Result2\n",
      "ID_var                  \n",
      "801       0.718     30.0\n",
      "802         NaN      NaN\n",
      "803         NaN      NaN\n",
      "804         NaN      NaN\n",
      "805       0.240     75.0 \n",
      "\n"
     ]
    }
   ],
   "source": [
    "pf = 'Example_Data_And_Output.xlsx'\n",
    "dfTable1 = pd.read_excel(pf, sheet_name='df1')\n",
    "dfTable1 = dfTable1.set_index('ID_var')\n",
    "\n",
    "#dfTable2 table in first four rows\n",
    "dfTable2 = pd.read_excel(pf, sheet_name='df2')\n",
    "dfTable2 = dfTable2.set_index('ID_var')\n",
    "\n",
    "print('\\n\\n', dfTable1, '\\n\\n', dfTable2, '\\n')"
   ]
  },
  {
   "cell_type": "markdown",
   "id": "bf7dd9b6-180a-4dd2-a4a8-91eea01b0a48",
   "metadata": {},
   "source": [
    "#### General Functions for Working with OpenPyXL"
   ]
  },
  {
   "cell_type": "code",
   "execution_count": 3,
   "id": "c21fcd28-3a30-4815-942a-481d8213e024",
   "metadata": {},
   "outputs": [],
   "source": [
    "def open_workbook(pf):\n",
    "    \"\"\"\n",
    "    openpyxl Open a workbook at specified path+filename\n",
    "    \"\"\"\n",
    "    return openpyxl.load_workbook(pf)\n",
    "\n",
    "def clear_worksheet(ws):\n",
    "    \"\"\"\n",
    "    Clear Excel worksheet (ws object in an openpyxl wb object)\n",
    "    JDL 4/21/23\n",
    "    \"\"\"\n",
    "    ws.delete_rows(1, ws.max_row)\n",
    "    ws.delete_cols(1, ws.max_column)\n",
    "    return ws\n",
    "\n",
    "def clear_cell(cell):\n",
    "    \"\"\"\n",
    "    openyxl clear a cell's value, formatting and cell comment/note\n",
    "    \"\"\"\n",
    "    cell.value = None\n",
    "    cell.font = openpyxl.styles.Font()\n",
    "    cell.border = openpyxl.styles.Border()\n",
    "    cell.fill = openpyxl.styles.PatternFill()\n",
    "    cell.number_format = 'General'\n",
    "    cell.alignment = openpyxl.styles.Alignment()\n",
    "    if cell.comment: cell.comment = None\n",
    "    return cell\n",
    "\n",
    "def ws_to_df(ws):\n",
    "    \"\"\"\n",
    "    Convert an openpyxl ws to a DataFrame (range index and columns)\n",
    "    \"\"\"\n",
    "    data = ws.values\n",
    "    df = pd.DataFrame(data)\n",
    "    return df\n",
    "\n",
    "def clear_columns(ws, col1, col2):\n",
    "    \"\"\"\n",
    "    Clear specified columns\n",
    "    \"\"\"\n",
    "    for col in range(col1, col2+1):\n",
    "        for row in range(1, ws.max_row + 1):\n",
    "            clear_cell(ws.cell(row=row, column=col))\n",
    "    return ws"
   ]
  },
  {
   "cell_type": "markdown",
   "id": "1b500ab7-cde7-4c0f-8919-55bd2d95440e",
   "metadata": {},
   "source": [
    "#### Functions for mocked up Excel sheet\n",
    "* Create openpyxl wb object with ws populated with some values and formatting\n",
    "* Create openpyxl wb object with blank ws"
   ]
  },
  {
   "cell_type": "code",
   "execution_count": 4,
   "id": "eb02b431-42c9-414f-9f31-9aa4f63dc0bc",
   "metadata": {},
   "outputs": [],
   "source": [
    "def open_wb_and_populate_demo(pf):\n",
    "    wb = open_workbook(pf)\n",
    "    ws = wb['output']\n",
    "    ws = clear_worksheet(ws)\n",
    "    ws['A1'] = 1.\n",
    "    ws['B2']  = 'xxx'\n",
    "    ws['C4'] = 'yyy'\n",
    "    ws['D6'] = 3.\n",
    "    ws['D6'].number_format = '0.00'\n",
    "    return wb, ws\n",
    "\n",
    "def open_wb_blank_ws(pf):\n",
    "    wb = open_workbook(pf)\n",
    "    ws = wb['output']\n",
    "    ws = clear_worksheet(ws)\n",
    "    return wb, ws"
   ]
  },
  {
   "cell_type": "markdown",
   "id": "d29c4cb0-6dee-4f11-ab2e-40cf969f0cfb",
   "metadata": {},
   "source": [
    "#### Use ws.dimensions to get range of populated cells on a sheet"
   ]
  },
  {
   "cell_type": "code",
   "execution_count": 5,
   "id": "5a2524b3-3d00-4371-b029-b18673ca7193",
   "metadata": {},
   "outputs": [
    {
     "name": "stdout",
     "output_type": "stream",
     "text": [
      "A1:D6\n",
      "\n",
      "      0     1     2    3\n",
      "0  1.0  None  None  NaN\n",
      "1  NaN   xxx  None  NaN\n",
      "2  NaN  None  None  NaN\n",
      "3  NaN  None   yyy  NaN\n",
      "4  NaN  None  None  NaN\n",
      "5  NaN  None  None  3.0 \n",
      "\n",
      "\n",
      "A1:A1\n",
      "\n",
      " Empty DataFrame\n",
      "Columns: []\n",
      "Index: []\n"
     ]
    }
   ],
   "source": [
    "#Populate a ws object with some values and formatting\n",
    "wb, ws = open_wb_and_populate_demo(pf)\n",
    "print(ws.dimensions)\n",
    "print('\\n', ws_to_df(ws), '\\n\\n')\n",
    "\n",
    "#Blank ws object\n",
    "wb, ws = open_wb_blank_ws(pf)\n",
    "print(ws.dimensions)\n",
    "print('\\n', ws_to_df(ws))"
   ]
  },
  {
   "cell_type": "markdown",
   "id": "308622a1-7a4d-4367-bb5d-7aaab8b145f1",
   "metadata": {},
   "source": [
    "#### Clear entire sheet's contents or specific columns"
   ]
  },
  {
   "cell_type": "code",
   "execution_count": 6,
   "id": "122a6a54-caa2-41ab-8312-cdcf2114ec91",
   "metadata": {},
   "outputs": [
    {
     "name": "stdout",
     "output_type": "stream",
     "text": [
      "A1:A1 \n",
      "\n",
      "Empty DataFrame\n",
      "Columns: []\n",
      "Index: []\n"
     ]
    }
   ],
   "source": [
    "wb, ws = open_wb_and_populate_demo(pf)\n",
    "ws = clear_worksheet(ws)\n",
    "print(ws.dimensions, '\\n')\n",
    "print(ws_to_df(ws))"
   ]
  },
  {
   "cell_type": "code",
   "execution_count": 7,
   "id": "6967fcd9-0e56-4805-b268-aefcdfc53723",
   "metadata": {},
   "outputs": [
    {
     "name": "stdout",
     "output_type": "stream",
     "text": [
      "A1:D6 \n",
      "\n",
      "     0     1     2    3\n",
      "0  1.0  None  None  NaN\n",
      "1  NaN  None  None  NaN\n",
      "2  NaN  None  None  NaN\n",
      "3  NaN  None  None  NaN\n",
      "4  NaN  None  None  NaN\n",
      "5  NaN  None  None  3.0\n"
     ]
    }
   ],
   "source": [
    "wb, ws = open_wb_and_populate_demo(pf)\n",
    "ws = clear_columns(ws, 2,3)\n",
    "print(ws.dimensions, '\\n')\n",
    "print(ws_to_df(ws))"
   ]
  },
  {
   "cell_type": "code",
   "execution_count": 8,
   "id": "c0f66d59-74d4-411c-9e9d-377ff9fdad5e",
   "metadata": {},
   "outputs": [
    {
     "data": {
      "text/plain": [
       "((<Cell 'output'.A1>,\n",
       "  <Cell 'output'.B1>,\n",
       "  <Cell 'output'.C1>,\n",
       "  <Cell 'output'.D1>),\n",
       " (<Cell 'output'.A2>,\n",
       "  <Cell 'output'.B2>,\n",
       "  <Cell 'output'.C2>,\n",
       "  <Cell 'output'.D2>),\n",
       " (<Cell 'output'.A3>,\n",
       "  <Cell 'output'.B3>,\n",
       "  <Cell 'output'.C3>,\n",
       "  <Cell 'output'.D3>),\n",
       " (<Cell 'output'.A4>,\n",
       "  <Cell 'output'.B4>,\n",
       "  <Cell 'output'.C4>,\n",
       "  <Cell 'output'.D4>),\n",
       " (<Cell 'output'.A5>,\n",
       "  <Cell 'output'.B5>,\n",
       "  <Cell 'output'.C5>,\n",
       "  <Cell 'output'.D5>),\n",
       " (<Cell 'output'.A6>,\n",
       "  <Cell 'output'.B6>,\n",
       "  <Cell 'output'.C6>,\n",
       "  <Cell 'output'.D6>))"
      ]
     },
     "execution_count": 8,
     "metadata": {},
     "output_type": "execute_result"
    }
   ],
   "source": [
    "ws[ws.dimensions]"
   ]
  },
  {
   "cell_type": "markdown",
   "id": "56b2a84f-feee-4db9-b764-3be32ab395a0",
   "metadata": {},
   "source": [
    "#### Accessing specific cells"
   ]
  },
  {
   "cell_type": "code",
   "execution_count": 9,
   "id": "0d111f3c-f3bb-41ce-a2e5-3c61d340a745",
   "metadata": {},
   "outputs": [
    {
     "name": "stdout",
     "output_type": "stream",
     "text": [
      "A1:D6\n",
      "(<Cell 'output'.A1>, <Cell 'output'.B1>, <Cell 'output'.C1>, <Cell 'output'.D1>)\n",
      "(<Cell 'output'.A2>, <Cell 'output'.B2>, <Cell 'output'.C2>, <Cell 'output'.D2>)\n",
      "(<Cell 'output'.A3>, <Cell 'output'.B3>, <Cell 'output'.C3>, <Cell 'output'.D3>)\n",
      "(<Cell 'output'.A4>, <Cell 'output'.B4>, <Cell 'output'.C4>, <Cell 'output'.D4>)\n",
      "(<Cell 'output'.A5>, <Cell 'output'.B5>, <Cell 'output'.C5>, <Cell 'output'.D5>)\n",
      "(<Cell 'output'.A6>, <Cell 'output'.B6>, <Cell 'output'.C6>, <Cell 'output'.D6>)\n"
     ]
    },
    {
     "data": {
      "text/plain": [
       "(6, 1)"
      ]
     },
     "execution_count": 9,
     "metadata": {},
     "output_type": "execute_result"
    }
   ],
   "source": [
    "wb, ws = open_wb_and_populate_demo(pf)\n",
    "print(ws.dimensions)\n",
    "\n",
    "# Set an openpyxl \"used range\" and print openpyxl column tuples\n",
    "used_range = ws[ws.dimensions]\n",
    "for col in used_range:\n",
    "    print(col)\n",
    "    \n",
    "#Print the last row's row and column number\n",
    "used_range[-1][0].row, used_range[-1][0].column"
   ]
  },
  {
   "cell_type": "code",
   "execution_count": 10,
   "id": "45f07c5d-1434-4ac9-b143-3ea587956711",
   "metadata": {},
   "outputs": [
    {
     "name": "stdout",
     "output_type": "stream",
     "text": [
      "1 1\n",
      "6 4\n"
     ]
    },
    {
     "data": {
      "text/html": [
       "<div>\n",
       "<style scoped>\n",
       "    .dataframe tbody tr th:only-of-type {\n",
       "        vertical-align: middle;\n",
       "    }\n",
       "\n",
       "    .dataframe tbody tr th {\n",
       "        vertical-align: top;\n",
       "    }\n",
       "\n",
       "    .dataframe thead th {\n",
       "        text-align: right;\n",
       "    }\n",
       "</style>\n",
       "<table border=\"1\" class=\"dataframe\">\n",
       "  <thead>\n",
       "    <tr style=\"text-align: right;\">\n",
       "      <th></th>\n",
       "      <th>0</th>\n",
       "      <th>1</th>\n",
       "      <th>2</th>\n",
       "      <th>3</th>\n",
       "    </tr>\n",
       "  </thead>\n",
       "  <tbody>\n",
       "    <tr>\n",
       "      <th>0</th>\n",
       "      <td>abc</td>\n",
       "      <td>None</td>\n",
       "      <td>None</td>\n",
       "      <td>NaN</td>\n",
       "    </tr>\n",
       "    <tr>\n",
       "      <th>1</th>\n",
       "      <td>None</td>\n",
       "      <td>xxx</td>\n",
       "      <td>None</td>\n",
       "      <td>NaN</td>\n",
       "    </tr>\n",
       "    <tr>\n",
       "      <th>2</th>\n",
       "      <td>None</td>\n",
       "      <td>None</td>\n",
       "      <td>None</td>\n",
       "      <td>NaN</td>\n",
       "    </tr>\n",
       "    <tr>\n",
       "      <th>3</th>\n",
       "      <td>None</td>\n",
       "      <td>None</td>\n",
       "      <td>yyy</td>\n",
       "      <td>NaN</td>\n",
       "    </tr>\n",
       "    <tr>\n",
       "      <th>4</th>\n",
       "      <td>None</td>\n",
       "      <td>None</td>\n",
       "      <td>None</td>\n",
       "      <td>NaN</td>\n",
       "    </tr>\n",
       "    <tr>\n",
       "      <th>5</th>\n",
       "      <td>None</td>\n",
       "      <td>None</td>\n",
       "      <td>None</td>\n",
       "      <td>3.0</td>\n",
       "    </tr>\n",
       "  </tbody>\n",
       "</table>\n",
       "</div>"
      ],
      "text/plain": [
       "      0     1     2    3\n",
       "0   abc  None  None  NaN\n",
       "1  None   xxx  None  NaN\n",
       "2  None  None  None  NaN\n",
       "3  None  None   yyy  NaN\n",
       "4  None  None  None  NaN\n",
       "5  None  None  None  3.0"
      ]
     },
     "execution_count": 10,
     "metadata": {},
     "output_type": "execute_result"
    }
   ],
   "source": [
    "#first and last cell\n",
    "c = ws.cell(ws.min_row, ws.min_column)\n",
    "print(c.row, c.column)\n",
    "c = ws.cell(ws.max_row, ws.max_column)\n",
    "print(c.row, c.column)\n",
    "\n",
    "#Change a single value\n",
    "ws.cell(1,1).value = 'abc'\n",
    "ws_to_df(ws)"
   ]
  },
  {
   "cell_type": "markdown",
   "id": "fab39394-f259-4b1e-a903-0fa7e8bd6050",
   "metadata": {},
   "source": [
    "#### Switching between letter and numeric indices for columns"
   ]
  },
  {
   "cell_type": "code",
   "execution_count": 11,
   "id": "ed16f9dd-791e-4b25-9a01-0978bc9fd8a5",
   "metadata": {},
   "outputs": [
    {
     "name": "stdout",
     "output_type": "stream",
     "text": [
      "4\n",
      "D\n"
     ]
    }
   ],
   "source": [
    "print(pyxl_util.column_index_from_string('D'))\n",
    "print(pyxl_util.get_column_letter(4))"
   ]
  },
  {
   "cell_type": "markdown",
   "id": "eb849313-3bbc-476c-a73e-1bcac6d17f06",
   "metadata": {},
   "source": [
    "#### Excel Range Iterators\n",
    "Excel range is defined by openpyxl cell_home and cell_end objects (upper left and lower right corners of range)"
   ]
  },
  {
   "cell_type": "code",
   "execution_count": 12,
   "id": "540f01c9-b4cf-4c83-a7eb-1fe7569aff2a",
   "metadata": {},
   "outputs": [],
   "source": [
    "def rng_iterator(ws, cell_home, cell_end):\n",
    "    \"\"\"\n",
    "    Return row-wise iterator to iterate over cells in range\n",
    "    specified by openpyxl home and end cells. Usage: for c in cell_iterator(xxx):\n",
    "    JDL 4/21/23\n",
    "    \"\"\"\n",
    "    row_start, col_start = cell_home.row, cell_home.column\n",
    "    row_end, col_end = cell_end.row, cell_end.column\n",
    "\n",
    "    for row in range(row_start, row_end+1):\n",
    "        for col in range(col_start, col_end+1):\n",
    "            cell = ws.cell(row=row, column=col)\n",
    "            yield cell\n",
    "            \n",
    "def rng_iterator_enum(ws, cell_home, cell_end):\n",
    "    \"\"\"\n",
    "    Return row-wise iterator with row, column enumeration to iterate \n",
    "    over cells in a range specified by openpyxl home and end cells.\n",
    "    Usage: for i, j, c in cell_iterator(xxx): where i and j are the\n",
    "    row and column indices of cells c returned by the generator\n",
    "    JDL 4/21/23\n",
    "    \"\"\"\n",
    "    start_row, start_col = cell_home.row, cell_home.column\n",
    "    end_row, end_col,  = cell_end.row, cell_end.column, \n",
    "    for i, row in enumerate(range(start_row, end_row+1), start=1):\n",
    "        for j, col in enumerate(range(start_col, end_col+1), start=1):\n",
    "            cell = ws.cell(row=row, column=col)\n",
    "            yield (i, j, cell)"
   ]
  },
  {
   "cell_type": "markdown",
   "id": "095569c3-fd70-4edc-8af3-50265073580b",
   "metadata": {},
   "source": [
    "#### rng_iterator demo"
   ]
  },
  {
   "cell_type": "code",
   "execution_count": 13,
   "id": "7b5b36fc-c1af-4cd7-aa74-0f9654083c08",
   "metadata": {},
   "outputs": [
    {
     "name": "stdout",
     "output_type": "stream",
     "text": [
      "1 1 xxx General\n",
      "1 2 None 0.00\n",
      "2 1 None General\n",
      "2 2 yyy General\n",
      "\n",
      "       0     1\n",
      "0   xxx  None\n",
      "1  None   yyy\n"
     ]
    }
   ],
   "source": [
    "wb, ws = open_wb_blank_ws(pf)\n",
    "ws = clear_worksheet(ws)\n",
    "\n",
    "#Populate a small, A1:B2 range in the ws object\n",
    "ws.cell(1,1).value = 'xxx'\n",
    "ws.cell(2,2).value = 'yyy'\n",
    "ws.cell(1,2).number_format = '0.00'\n",
    "\n",
    "#Use the iterator to perform an action (print value and format) on every cell in the range\n",
    "cell_home, cell_end = ws.cell(row=ws.min_row, column=ws.min_column), ws.cell(row=ws.max_row, column=ws.max_column)\n",
    "for cell in rng_iterator(ws, cell_home, cell_end):\n",
    "    print(cell.row, cell.column, cell.value, cell.number_format)\n",
    "\n",
    "print('\\n', ws_to_df(ws))"
   ]
  },
  {
   "cell_type": "markdown",
   "id": "a91afffd-4a23-406e-aafd-2af4942be1f0",
   "metadata": {},
   "source": [
    "#### rng_iterator_enum demo - Set openpyxl ws.cell objects equal to DataFrame values"
   ]
  },
  {
   "cell_type": "code",
   "execution_count": 14,
   "id": "5b142e7f-c7aa-41e5-897e-8b411a97ba22",
   "metadata": {},
   "outputs": [
    {
     "data": {
      "text/html": [
       "<div>\n",
       "<style scoped>\n",
       "    .dataframe tbody tr th:only-of-type {\n",
       "        vertical-align: middle;\n",
       "    }\n",
       "\n",
       "    .dataframe tbody tr th {\n",
       "        vertical-align: top;\n",
       "    }\n",
       "\n",
       "    .dataframe thead th {\n",
       "        text-align: right;\n",
       "    }\n",
       "</style>\n",
       "<table border=\"1\" class=\"dataframe\">\n",
       "  <thead>\n",
       "    <tr style=\"text-align: right;\">\n",
       "      <th></th>\n",
       "      <th>0</th>\n",
       "      <th>1</th>\n",
       "    </tr>\n",
       "  </thead>\n",
       "  <tbody>\n",
       "    <tr>\n",
       "      <th>0</th>\n",
       "      <td>0.718</td>\n",
       "      <td>30.0</td>\n",
       "    </tr>\n",
       "    <tr>\n",
       "      <th>1</th>\n",
       "      <td>NaN</td>\n",
       "      <td>NaN</td>\n",
       "    </tr>\n",
       "    <tr>\n",
       "      <th>2</th>\n",
       "      <td>NaN</td>\n",
       "      <td>NaN</td>\n",
       "    </tr>\n",
       "    <tr>\n",
       "      <th>3</th>\n",
       "      <td>NaN</td>\n",
       "      <td>NaN</td>\n",
       "    </tr>\n",
       "    <tr>\n",
       "      <th>4</th>\n",
       "      <td>0.240</td>\n",
       "      <td>75.0</td>\n",
       "    </tr>\n",
       "  </tbody>\n",
       "</table>\n",
       "</div>"
      ],
      "text/plain": [
       "       0     1\n",
       "0  0.718  30.0\n",
       "1    NaN   NaN\n",
       "2    NaN   NaN\n",
       "3    NaN   NaN\n",
       "4  0.240  75.0"
      ]
     },
     "execution_count": 14,
     "metadata": {},
     "output_type": "execute_result"
    }
   ],
   "source": [
    "wb, ws = open_wb_blank_ws(pf)\n",
    "cell_home, cell_end = ws.cell(1,1), ws.cell(1+dfTable2.index.size-1, 1+ dfTable2.columns.size-1)\n",
    "\n",
    "#Use generator to write DataFrame values to cells\n",
    "for i, j, c in rng_iterator_enum(ws, ws.cell(row=1,column=1), cell_end):\n",
    "    c.value = dfTable2.values[i-1][j-1]\n",
    "    \n",
    "ws_to_df(ws)"
   ]
  },
  {
   "cell_type": "markdown",
   "id": "92de1654-fe64-428c-97db-75339517a3c2",
   "metadata": {},
   "source": [
    "#### Example of making values iterable as list of lists\n",
    "Not used here but an alternate, useful technique for making df values iterable"
   ]
  },
  {
   "cell_type": "code",
   "execution_count": 15,
   "id": "5b5b0dfc-522b-4da0-b76d-34bf469a90a3",
   "metadata": {},
   "outputs": [
    {
     "name": "stdout",
     "output_type": "stream",
     "text": [
      "[[0.718, 30.0], [nan, nan], [nan, nan], [nan, nan], [0.24, 75.0]] \n",
      "\n",
      "0.718\n",
      "30.0\n",
      "nan\n",
      "nan\n",
      "nan\n",
      "nan\n",
      "nan\n",
      "nan\n",
      "0.24\n",
      "75.0\n"
     ]
    }
   ],
   "source": [
    "print(dfTable2.values.tolist(), '\\n')\n",
    "for lst_row in dfTable2.values.tolist():\n",
    "    for colvalue in lst_row:\n",
    "        print(colvalue)"
   ]
  },
  {
   "cell_type": "markdown",
   "id": "87bf08a5-05d0-4fe0-ab2a-4a0c096eae16",
   "metadata": {},
   "source": [
    "#### Write a DataFrame to a ws object"
   ]
  },
  {
   "cell_type": "code",
   "execution_count": 16,
   "id": "75f9ccd6-8a50-4ccc-8884-e5b1adb75c33",
   "metadata": {},
   "outputs": [],
   "source": [
    "def write_dataframe(ws, df, cell_home):\n",
    "    \"\"\"\n",
    "    Write a DataFrame to a specific openpyxl cell on an Excel ws\n",
    "    cell_home argument is ws.cell for top left data cell in Excel\n",
    "    JDL 4/23/23\n",
    "    \"\"\"\n",
    "    #Create dict of cell locations for df elements\n",
    "    d_cells = set_df_openpyxl_cell_locns(ws, df, cell_home)\n",
    "    \n",
    "    #Write data, index and column values\n",
    "    for fn in [write_df_data, write_df_index, write_df_columns]:\n",
    "        ws = fn(ws, df, d_cells)\n",
    "    return ws \n",
    "\n",
    "def set_df_openpyxl_cell_locns(ws, df, cell_home):\n",
    "    \"\"\"\n",
    "    Set ws.cells for ranges of data, index and columns\n",
    "    cell_home argument is ws.cell for top left data cell in Excel\n",
    "    JDL 4/23/23\n",
    "    \"\"\"\n",
    "    row, col = row_col(cell_home)\n",
    "    d_cells = {'cell_home_data':cell_home}\n",
    "    d_cells['cell_end_data'] = ws.cell(row + df.index.size - 1, col + df.columns.size - 1)\n",
    "    d_cells['cell_home_idx'] = ws.cell(row, col - 1)\n",
    "    d_cells['cell_end_idx'] = ws.cell(row + df.index.size - 1, col - 1)\n",
    "    d_cells['cell_home_cols'] = ws.cell(row - 1, col)\n",
    "    d_cells['cell_end_cols'] = ws.cell(row - 1, col + df.columns.size - 1)    \n",
    "    return d_cells\n",
    "\n",
    "def row_col(c):\n",
    "    \"\"\"\n",
    "    return openpyxl ws.cell row and column tuple\n",
    "    JDL 4/23/23\n",
    "    \"\"\"\n",
    "    return c.row, c.column \n",
    "    \n",
    "def write_df_data(ws, df, d_cells):\n",
    "    \"\"\"\n",
    "    Write DataFrame's data values\n",
    "    JDL 4/23/23\n",
    "    \"\"\"\n",
    "    for i, j, c in rng_iterator_enum(ws, d_cells['cell_home_data'], d_cells['cell_end_data']):\n",
    "        c.value = df.values[i-1][j-1]        \n",
    "    return ws\n",
    "    \n",
    "def write_df_index(ws, df, d_cells):\n",
    "    \"\"\"\n",
    "    Write DataFrame's index to column adjacent to first data column\n",
    "    JDL 4/23/23\n",
    "    \"\"\"\n",
    "    #Write index values\n",
    "    for i, j, c in rng_iterator_enum(ws, d_cells['cell_home_idx'], d_cells['cell_end_idx']):\n",
    "        c.value = list(df.index)[i-1]\n",
    "    \n",
    "    #Write index name as heading above index values\n",
    "    ws.cell(d_cells['cell_home_idx'].row - 1, d_cells['cell_home_idx'].column).value = df.index.name\n",
    "    return ws\n",
    "\n",
    "def write_df_columns(ws, df, d_cells):\n",
    "    \"\"\"\n",
    "    Write DataFrame's column values to row above to first data row\n",
    "    JDL 4/23/23\n",
    "    \"\"\"    \n",
    "    for i, j, c in rng_iterator_enum(ws, d_cells['cell_home_cols'], d_cells['cell_end_cols']):\n",
    "        c.value = list(df.columns)[j-1]  \n",
    "    return ws"
   ]
  },
  {
   "cell_type": "markdown",
   "id": "74251146-932c-4772-9959-5aea2c4ac723",
   "metadata": {},
   "source": [
    "#### Demo - Write two dfs to a sheet\n",
    "* dfTable1 is in columns 0 to 3 (aka Excel columns A to E)\n",
    "* Column 5 (aka Excel column F( is blank)\n",
    "* dfTable2 is written to columns 6 to 8 (aka Excel columns G to I)"
   ]
  },
  {
   "cell_type": "code",
   "execution_count": 17,
   "id": "68820c97-ff77-4617-af40-06c3c3f7f988",
   "metadata": {},
   "outputs": [
    {
     "name": "stdout",
     "output_type": "stream",
     "text": [
      "A1:A1\n"
     ]
    },
    {
     "data": {
      "text/html": [
       "<div>\n",
       "<style scoped>\n",
       "    .dataframe tbody tr th:only-of-type {\n",
       "        vertical-align: middle;\n",
       "    }\n",
       "\n",
       "    .dataframe tbody tr th {\n",
       "        vertical-align: top;\n",
       "    }\n",
       "\n",
       "    .dataframe thead th {\n",
       "        text-align: right;\n",
       "    }\n",
       "</style>\n",
       "<table border=\"1\" class=\"dataframe\">\n",
       "  <thead>\n",
       "    <tr style=\"text-align: right;\">\n",
       "      <th></th>\n",
       "      <th>0</th>\n",
       "      <th>1</th>\n",
       "      <th>2</th>\n",
       "      <th>3</th>\n",
       "      <th>4</th>\n",
       "      <th>5</th>\n",
       "      <th>6</th>\n",
       "      <th>7</th>\n",
       "      <th>8</th>\n",
       "    </tr>\n",
       "  </thead>\n",
       "  <tbody>\n",
       "    <tr>\n",
       "      <th>0</th>\n",
       "      <td>ID_var</td>\n",
       "      <td>1001.0000</td>\n",
       "      <td>1002.000</td>\n",
       "      <td>1003.000</td>\n",
       "      <td>1004.000</td>\n",
       "      <td>None</td>\n",
       "      <td>ID_var</td>\n",
       "      <td>Result1</td>\n",
       "      <td>Result2</td>\n",
       "    </tr>\n",
       "    <tr>\n",
       "      <th>1</th>\n",
       "      <td>801</td>\n",
       "      <td>0.0336</td>\n",
       "      <td>0.056</td>\n",
       "      <td>0.056</td>\n",
       "      <td>0.005</td>\n",
       "      <td>None</td>\n",
       "      <td>801</td>\n",
       "      <td>0.718</td>\n",
       "      <td>30.0</td>\n",
       "    </tr>\n",
       "    <tr>\n",
       "      <th>2</th>\n",
       "      <td>802</td>\n",
       "      <td>0.0000</td>\n",
       "      <td>0.000</td>\n",
       "      <td>0.000</td>\n",
       "      <td>0.000</td>\n",
       "      <td>None</td>\n",
       "      <td>802</td>\n",
       "      <td>NaN</td>\n",
       "      <td>NaN</td>\n",
       "    </tr>\n",
       "    <tr>\n",
       "      <th>3</th>\n",
       "      <td>803</td>\n",
       "      <td>0.0000</td>\n",
       "      <td>0.000</td>\n",
       "      <td>0.000</td>\n",
       "      <td>0.000</td>\n",
       "      <td>None</td>\n",
       "      <td>803</td>\n",
       "      <td>NaN</td>\n",
       "      <td>NaN</td>\n",
       "    </tr>\n",
       "    <tr>\n",
       "      <th>4</th>\n",
       "      <td>804</td>\n",
       "      <td>0.0000</td>\n",
       "      <td>0.000</td>\n",
       "      <td>0.000</td>\n",
       "      <td>0.000</td>\n",
       "      <td>None</td>\n",
       "      <td>804</td>\n",
       "      <td>NaN</td>\n",
       "      <td>NaN</td>\n",
       "    </tr>\n",
       "    <tr>\n",
       "      <th>5</th>\n",
       "      <td>805</td>\n",
       "      <td>0.0100</td>\n",
       "      <td>0.050</td>\n",
       "      <td>0.100</td>\n",
       "      <td>0.200</td>\n",
       "      <td>None</td>\n",
       "      <td>805</td>\n",
       "      <td>0.24</td>\n",
       "      <td>75.0</td>\n",
       "    </tr>\n",
       "  </tbody>\n",
       "</table>\n",
       "</div>"
      ],
      "text/plain": [
       "        0          1         2         3         4     5       6        7  \\\n",
       "0  ID_var  1001.0000  1002.000  1003.000  1004.000  None  ID_var  Result1   \n",
       "1     801     0.0336     0.056     0.056     0.005  None     801    0.718   \n",
       "2     802     0.0000     0.000     0.000     0.000  None     802      NaN   \n",
       "3     803     0.0000     0.000     0.000     0.000  None     803      NaN   \n",
       "4     804     0.0000     0.000     0.000     0.000  None     804      NaN   \n",
       "5     805     0.0100     0.050     0.100     0.200  None     805     0.24   \n",
       "\n",
       "         8  \n",
       "0  Result2  \n",
       "1     30.0  \n",
       "2      NaN  \n",
       "3      NaN  \n",
       "4      NaN  \n",
       "5     75.0  "
      ]
     },
     "execution_count": 17,
     "metadata": {},
     "output_type": "execute_result"
    }
   ],
   "source": [
    "wb, ws = open_wb_and_populate_demo(pf)\n",
    "ws = clear_worksheet(ws)\n",
    "print(ws.dimensions)\n",
    "\n",
    "ws = write_dataframe(ws, dfTable1, ws.cell(2,2))\n",
    "ws = write_dataframe(ws, dfTable2, ws.cell(2,8))\n",
    "ws_to_df(ws)"
   ]
  },
  {
   "cell_type": "markdown",
   "id": "cade34e6-8d60-469b-802c-a58ff9998ae6",
   "metadata": {},
   "source": [
    "#### Cell borders\n",
    "* Openpyxl requires creation of a 'Border\" object\n",
    "* Hint: style='xxx' gives error message listing available Side style strings)</br></br>\n",
    "<left><img src=\"images/output_border_test.png\" alt=\"\" width=\"300\"></left>"
   ]
  },
  {
   "cell_type": "code",
   "execution_count": 18,
   "id": "2103e8ed-1188-4711-a577-a43e708084df",
   "metadata": {},
   "outputs": [
    {
     "name": "stdout",
     "output_type": "stream",
     "text": [
      "     0     1     2    3\n",
      "0  1.0  None  None  NaN\n",
      "1  NaN   xxx  None  NaN\n",
      "2  NaN  None  None  NaN\n",
      "3  NaN  None   yyy  NaN\n",
      "4  NaN  None  None  NaN\n",
      "5  NaN  None  None  3.0\n"
     ]
    }
   ],
   "source": [
    "#Example write a border to B3 on Demo worksheet\n",
    "\n",
    "thick_border = Border(left=Side(style='thick'), \n",
    "                     right=Side(style='thick'), \n",
    "                     top=Side(style='thick'), \n",
    "                     bottom=Side(style='thick'))\n",
    "\n",
    "wb, ws = open_wb_and_populate_demo(pf)\n",
    "print(ws_to_df(ws))\n",
    "ws.cell(row=3, column=2).border = thick_border\n",
    "wb.save('border_test.xlsx')"
   ]
  },
  {
   "cell_type": "markdown",
   "id": "9df5b2c1-665f-42b2-836d-bf320abd69e5",
   "metadata": {},
   "source": [
    "#### Functions for applying outline borders to cells and DataFrame outputs to ws objects"
   ]
  },
  {
   "cell_type": "code",
   "execution_count": 19,
   "id": "8feb9e5f-9a44-47b3-ac14-9b34a3b9beb6",
   "metadata": {},
   "outputs": [],
   "source": [
    "def set_openpyxl_border_obj(style_border):\n",
    "    \"\"\"\n",
    "    Create a border style based on style_border='thick', 'thin' etc.\n",
    "    Use \"from openpyxl.styles import Border, Side\" to import needed openpyxl attributes\n",
    "    JDL 4/21/23\n",
    "    \"\"\"\n",
    "    return Border(left=Side(style=style_border),\n",
    "                  right=Side(style=style_border), \n",
    "                  top=Side(style=style_border),\n",
    "                  bottom=Side(style=style_border))\n",
    "\n",
    "def set_range_border(ws, cell_home, cell_end, style_border):\n",
    "    \"\"\"\n",
    "    Set borders for an Excel range defined by ws cell_home and cell_end\n",
    "    JDL 4/21/23\n",
    "    \"\"\"\n",
    "    #Create a Border object for style_border\n",
    "    border_obj = set_openpyxl_border_obj(style_border)\n",
    "    \n",
    "    #Apply the border_obj to each cell in the range\n",
    "    for c in rng_iterator(ws, cell_home, cell_end):\n",
    "        c.border = border_obj\n",
    "        \n",
    "def set_df_borders(ws, df, cell_home):\n",
    "    \"\"\"\n",
    "    Set borders for an Excel range containing a DataFrame\n",
    "    JDL 4/21/23\n",
    "    \"\"\"\n",
    "    d_cells = set_df_openpyxl_cell_locns(ws, df, cell_home)\n",
    "    ws = set_df_data_borders(ws, d_cells, 'thin')\n",
    "    ws = set_df_index_borders(ws, d_cells, 'thin')\n",
    "    ws = set_df_cols_borders(ws, d_cells, 'thick')\n",
    "    return ws\n",
    "\n",
    "def set_df_data_borders(ws, d_cells, style_border):\n",
    "    \"\"\"\n",
    "    Put border around cells for df data values\n",
    "    \"\"\"\n",
    "    set_range_border(ws, d_cells['cell_home_data'], d_cells['cell_end_data'], style_border)\n",
    "    return ws\n",
    "\n",
    "def set_df_index_borders(ws, d_cells, style_border):\n",
    "    set_range_border(ws, d_cells['cell_home_idx'], d_cells['cell_end_idx'], style_border)\n",
    "    row = d_cells['cell_home_idx'].row - 1\n",
    "    col = d_cells['cell_home_idx'].column\n",
    "    set_range_border(ws, ws.cell(row, col), ws.cell(row, col), style_border)\n",
    "    return ws\n",
    "\n",
    "def set_df_cols_borders(ws, d_cells, style_border):\n",
    "    set_range_border(ws, d_cells['cell_home_cols'], d_cells['cell_end_cols'], style_border)\n",
    "    return ws"
   ]
  },
  {
   "cell_type": "markdown",
   "id": "3b26e446-e86a-4716-8448-8cfc04cd8a4b",
   "metadata": {},
   "source": [
    "#### Demo - Write two df's to a ws object with border formatting\n",
    "<left><img src=\"images/output_border_test2.png\" alt=\"\" width=\"600\"></left>"
   ]
  },
  {
   "cell_type": "code",
   "execution_count": 20,
   "id": "eb018755-b528-4c28-be04-a43847a235ec",
   "metadata": {},
   "outputs": [],
   "source": [
    "wb, ws = open_wb_blank_ws(pf)\n",
    "ws = write_dataframe(ws, dfTable1, ws.cell(2,2))\n",
    "ws = write_dataframe(ws, dfTable2, ws.cell(2,8))\n",
    "ws = set_df_borders(ws, dfTable1, ws.cell(2,2))\n",
    "ws = set_df_borders(ws, dfTable2, ws.cell(2,8))\n",
    "wb.save('border_test2.xlsx')"
   ]
  },
  {
   "cell_type": "markdown",
   "id": "77ebaa10-f615-402b-934e-6a58c9daafdd",
   "metadata": {},
   "source": [
    "#### Functions for applying built-in styles to a DataFrame"
   ]
  },
  {
   "cell_type": "code",
   "execution_count": 21,
   "id": "5460422b-cd6a-4c1d-913d-3cb431342c5f",
   "metadata": {},
   "outputs": [],
   "source": [
    "def set_range_builtin_style(ws, cell_home, cell_end, style_builtin):\n",
    "    \"\"\"\n",
    "    Apply the builtin style to each cell in the range\n",
    "    JDL 4/25/23\n",
    "    \"\"\"\n",
    "    for c in rng_iterator(ws, cell_home, cell_end):\n",
    "        c.style = style_builtin\n",
    "        \n",
    "def set_df_builtin_styles(ws, df, cell_home, style_data=None, style_idx=None, style_cols=None):\n",
    "    \"\"\"\n",
    "    Set built-in styles for Excel range with a DataFrame\n",
    "    JDL 4/25/23\n",
    "    \"\"\"\n",
    "    d_cells = set_df_openpyxl_cell_locns(ws, df, cell_home)\n",
    "    if not style_data is None: ws = set_df_data_builtin_styles(ws, d_cells, style_data)\n",
    "    if not style_idx is None: ws = set_df_index_builtin_styles(ws, d_cells, style_idx)\n",
    "    if not style_cols is None: ws = set_df_cols_builtin_styles(ws, d_cells, style_cols)\n",
    "    return ws\n",
    "\n",
    "def set_df_data_builtin_styles(ws, d_cells, style_data):\n",
    "    \"\"\"\n",
    "    Set built-in Excel style for df data values\n",
    "    \"\"\"\n",
    "    set_range_builtin_style(ws, d_cells['cell_home_data'], d_cells['cell_end_data'], style_data)\n",
    "    return ws\n",
    "\n",
    "def set_df_index_builtin_styles(ws, d_cells, style_idx):\n",
    "    \"\"\"\n",
    "    Set built-in Excel style for df index values\n",
    "    \"\"\"    \n",
    "    set_range_builtin_style(ws, d_cells['cell_home_idx'], d_cells['cell_end_idx'], style_idx)\n",
    "    return ws\n",
    "\n",
    "def set_df_cols_builtin_styles(ws, d_cells, style_cols):\n",
    "    \"\"\"\n",
    "    Set built-in Excel style for df column values and index name cell\n",
    "    \"\"\"    \n",
    "    set_range_builtin_style(ws, d_cells['cell_home_cols'], d_cells['cell_end_cols'], style_cols)\n",
    "    \n",
    "    #Set index name cell same style as data columns\n",
    "    row = d_cells['cell_home_idx'].row - 1\n",
    "    col = d_cells['cell_home_idx'].column\n",
    "    set_range_builtin_style(ws, ws.cell(row, col), ws.cell(row, col), style_cols)\n",
    "    return ws"
   ]
  },
  {
   "cell_type": "code",
   "execution_count": 22,
   "id": "e963f6db-fef8-4fbf-990b-4c14d1436b50",
   "metadata": {},
   "outputs": [],
   "source": [
    "#Comprehensive write DataFrame with borders and applied styles\n",
    "wb, ws = open_wb_blank_ws(pf)\n",
    "ws = write_dataframe(ws, dfTable1, ws.cell(2,2))\n",
    "ws = write_dataframe(ws, dfTable2, ws.cell(2,8))\n",
    "ws = set_df_borders(ws, dfTable1, ws.cell(2,2))\n",
    "ws = set_df_borders(ws, dfTable2, ws.cell(2,8))\n",
    "ws = set_df_builtin_styles(ws, dfTable1, ws.cell(2,2), None, '40 % - Accent1', 'Accent1')\n",
    "ws = set_df_builtin_styles(ws, dfTable2, ws.cell(2,8), None, '40 % - Accent1', 'Accent1')\n",
    "wb.save('border_test2.xlsx')"
   ]
  },
  {
   "cell_type": "code",
   "execution_count": 24,
   "id": "f0c25ff6-021f-4cc0-8fef-e3da0568a9df",
   "metadata": {},
   "outputs": [],
   "source": [
    "#Check that *.py library works\n",
    "if True:\n",
    "    import util_openpyxl as up\n",
    "    \n",
    "    wb, ws = open_wb_blank_ws(pf)\n",
    "    ws = up.write_dataframe(ws, dfTable1, ws.cell(2,2))\n",
    "    ws = up.write_dataframe(ws, dfTable2, ws.cell(2,8))\n",
    "    ws = up.set_df_borders(ws, dfTable1, ws.cell(2,2))\n",
    "    ws = up.set_df_borders(ws, dfTable2, ws.cell(2,8))\n",
    "    ws = up.set_df_builtin_styles(ws, dfTable1, ws.cell(2,2), None, '40 % - Accent1', 'Accent1')\n",
    "    ws = up.set_df_builtin_styles(ws, dfTable2, ws.cell(2,8), None, '40 % - Accent1', 'Accent1')\n",
    "    wb.save('border_test2.xlsx')"
   ]
  },
  {
   "cell_type": "code",
   "execution_count": null,
   "id": "8dce980f-3b4f-4f40-86e3-26b03620802a",
   "metadata": {},
   "outputs": [],
   "source": []
  }
 ],
 "metadata": {
  "kernelspec": {
   "display_name": "Python 3",
   "language": "python",
   "name": "python3"
  },
  "language_info": {
   "codemirror_mode": {
    "name": "ipython",
    "version": 3
   },
   "file_extension": ".py",
   "mimetype": "text/x-python",
   "name": "python",
   "nbconvert_exporter": "python",
   "pygments_lexer": "ipython3",
   "version": "3.8.8"
  }
 },
 "nbformat": 4,
 "nbformat_minor": 5
}
